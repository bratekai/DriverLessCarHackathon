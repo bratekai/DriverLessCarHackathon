{
 "cells": [
  {
   "cell_type": "markdown",
   "metadata": {},
   "source": [
    "## Drive from Video\n",
    "\n",
    "References:\n",
    "* http://docs.opencv.org/3.0-beta/doc/py_tutorials/py_gui/py_image_display/py_image_display.html\n",
    "* http://docs.opencv.org/3.0-beta/doc/py_tutorials/py_gui/py_video_display/py_video_display.html\n",
    "* https://www.youtube.com/watch?v=Z78zbnLlPUA\n",
    "* https://www.youtube.com/watch?v=Jvf5y21ZqtQ\n",
    "* https://www.youtube.com/watch?v=U6uIrq2eh_o\n",
    "* https://www.youtube.com/watch?v=1pzk_DIL_wo\n",
    "* https://www.youtube.com/watch?v=jXzkxsT9gxM\n",
    "* https://www.youtube.com/watch?v=_gfNpJmWIug\n",
    "* https://www.scivision.co/anaconda-python-opencv3/\n",
    "* https://stackoverflow.com/questions/41873941/cant-install-opencv3-on-anaconda3-python3-6-on-macos\n",
    "* https://pythonprogramming.net/loading-video-python-opencv-tutorial/"
   ]
  },
  {
   "cell_type": "code",
   "execution_count": 1,
   "metadata": {
    "collapsed": false
   },
   "outputs": [],
   "source": [
    "import numpy as np\n",
    "import cv2\n",
    "import matplotlib.pyplot as plt\n",
    "\n",
    "# This could fail if opencv was not compiled with ffmpeg, check references\n",
    "cap = cv2.VideoCapture('/home/leoara01/Desktop/VideoReality.mp4')"
   ]
  },
  {
   "cell_type": "code",
   "execution_count": 2,
   "metadata": {
    "collapsed": false
   },
   "outputs": [
    {
     "data": {
      "text/plain": [
       "False"
      ]
     },
     "execution_count": 2,
     "metadata": {},
     "output_type": "execute_result"
    }
   ],
   "source": [
    "#ret, frame = cap.read()\n",
    "cap.isOpened()"
   ]
  }
 ],
 "metadata": {
  "kernelspec": {
   "display_name": "Python 3",
   "language": "python",
   "name": "python3"
  },
  "language_info": {
   "codemirror_mode": {
    "name": "ipython",
    "version": 3
   },
   "file_extension": ".py",
   "mimetype": "text/x-python",
   "name": "python",
   "nbconvert_exporter": "python",
   "pygments_lexer": "ipython3",
   "version": "3.6.0"
  }
 },
 "nbformat": 4,
 "nbformat_minor": 2
}
