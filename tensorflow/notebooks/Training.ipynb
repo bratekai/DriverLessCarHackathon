{
 "cells": [
  {
   "cell_type": "markdown",
   "metadata": {},
   "source": [
    "## Training (Not using TFRecords)\n",
    "\n",
    "### What you will see\n",
    "Basically how to train a network on tensorflow.\n",
    "1. Model definition \n",
    "2. Loss definition\n",
    "3. Session build\n",
    "4. Training loop"
   ]
  },
  {
   "cell_type": "code",
   "execution_count": 1,
   "metadata": {},
   "outputs": [
    {
     "name": "stderr",
     "output_type": "stream",
     "text": [
      "/usr/local/lib/python3.5/dist-packages/h5py/__init__.py:36: FutureWarning: Conversion of the second argument of issubdtype from `float` to `np.floating` is deprecated. In future, it will be treated as `np.float64 == np.dtype(float).type`.\n",
      "  from ._conv import register_converters as _register_converters\n"
     ]
    }
   ],
   "source": [
    "import tensorflow as tf\n",
    "import sys\n",
    "sys.path.append('../')\n",
    "import model\n",
    "import os\n",
    "import subprocess\n",
    "import glob\n",
    "from driving_data import HandleData\n",
    "\n",
    "\n",
    "# Regularization value\n",
    "L2NormConst = 0.1\n",
    "start_lr = 1.0\n",
    "batch_size = 64\n",
    "epochs = 1\n",
    "input_train_hdf5 = '/home/ubuntu/datasets/Dataset_LMDB_Balanced'\n",
    "input_val_hdf5 = ''\n",
    "logs_path = '../logs'\n",
    "save_dir = '../save'\n",
    "iter_disp = 10\n",
    "gpu_fraction = 0.3\n",
    "\n",
    "os.environ[\"CUDA_VISIBLE_DEVICES\"] = str(0)"
   ]
  },
  {
   "cell_type": "markdown",
   "metadata": {},
   "source": [
    "### Define the model"
   ]
  },
  {
   "cell_type": "code",
   "execution_count": 2,
   "metadata": {},
   "outputs": [],
   "source": [
    "# Open Model\n",
    "driving_model = model.DrivingModel(training_mode=True)\n",
    "    \n",
    "# Get placeholders from model\n",
    "model_in = driving_model.input\n",
    "model_out = driving_model.output\n",
    "labels_in = driving_model.label_in\n",
    "model_drop = driving_model.dropout_control\n",
    "train_mode = driving_model.train_mode"
   ]
  },
  {
   "cell_type": "markdown",
   "metadata": {},
   "source": [
    "### Define Loss function"
   ]
  },
  {
   "cell_type": "code",
   "execution_count": 3,
   "metadata": {},
   "outputs": [],
   "source": [
    "train_vars = tf.trainable_variables()\n",
    "with tf.name_scope(\"MSE_Loss_L2Reg\"):\n",
    "    loss = tf.reduce_mean(tf.square(tf.subtract(labels_in, model_out))) + tf.add_n(\n",
    "        [tf.nn.l2_loss(v) for v in train_vars]) * L2NormConst\n",
    "\n",
    "# Add model accuracy\n",
    "with tf.name_scope(\"Loss_Validation\"):\n",
    "    loss_val = tf.reduce_mean(tf.square(tf.subtract(labels_in, model_out)))"
   ]
  },
  {
   "cell_type": "markdown",
   "metadata": {},
   "source": [
    "### Define the solver\n",
    "We want to use the Adam solver to minimize or loss function."
   ]
  },
  {
   "cell_type": "code",
   "execution_count": 4,
   "metadata": {},
   "outputs": [],
   "source": [
    "# Solver configuration\n",
    "# Get ops to update moving_mean and moving_variance from batch_norm\n",
    "# Reference: https://www.tensorflow.org/api_docs/python/tf/contrib/layers/batch_norm\n",
    "update_ops = tf.get_collection(tf.GraphKeys.UPDATE_OPS)\n",
    "with tf.name_scope(\"Solver\"):\n",
    "    global_step = tf.Variable(0, trainable=False)\n",
    "    starter_learning_rate = start_lr\n",
    "    # decay every 1000 steps with a base of 0.9\n",
    "    learning_rate = tf.train.exponential_decay(starter_learning_rate, global_step,\n",
    "                                               1000, 0.9, staircase=True)\n",
    "\n",
    "    # Basically update the batch_norm moving averages before the training step\n",
    "    # http://ruishu.io/2016/12/27/batchnorm/\n",
    "    with tf.control_dependencies(update_ops):\n",
    "        train_step = tf.train.AdamOptimizer(learning_rate).minimize(loss, global_step=global_step)"
   ]
  },
  {
   "cell_type": "markdown",
   "metadata": {},
   "source": [
    "### Create the Session\n",
    "We need a tf.Session() so TensorFlow can use our computer resources and run the graph"
   ]
  },
  {
   "cell_type": "code",
   "execution_count": 5,
   "metadata": {},
   "outputs": [],
   "source": [
    "# Avoid allocating the whole memory\n",
    "gpu_options = tf.GPUOptions(per_process_gpu_memory_fraction=gpu_fraction)\n",
    "sess = tf.InteractiveSession(config=tf.ConfigProto(gpu_options=gpu_options))"
   ]
  },
  {
   "cell_type": "markdown",
   "metadata": {},
   "source": [
    "### Initialize the values (Random values of weights)"
   ]
  },
  {
   "cell_type": "code",
   "execution_count": 6,
   "metadata": {},
   "outputs": [],
   "source": [
    "# Initialize all random variables (Weights/Bias)\n",
    "sess.run(tf.global_variables_initializer())"
   ]
  },
  {
   "cell_type": "markdown",
   "metadata": {},
   "source": [
    "### Define saver object to save checkpoints"
   ]
  },
  {
   "cell_type": "code",
   "execution_count": 7,
   "metadata": {},
   "outputs": [],
   "source": [
    "# Define saver object to save all the variables of the drivingModel graphph\n",
    "saver = tf.train.Saver()"
   ]
  },
  {
   "cell_type": "markdown",
   "metadata": {},
   "source": [
    "### Add some variables to be observed on Tensorboard"
   ]
  },
  {
   "cell_type": "code",
   "execution_count": 8,
   "metadata": {},
   "outputs": [],
   "source": [
    "# Create histogram for labels\n",
    "tf.summary.histogram(\"steer_angle\", labels_in)\n",
    "# Add input image/steering angle on summary\n",
    "tf.summary.image(\"input_image\", model_in, 10)\n",
    "\n",
    "# Monitor loss, learning_rate, global_step, etc...\n",
    "tf.summary.scalar(\"loss_train\", loss)\n",
    "tf.summary.scalar(\"learning_rate\", learning_rate)\n",
    "tf.summary.scalar(\"global_step\", global_step)\n",
    "# merge all summaries into a single op\n",
    "merged_summary_op = tf.summary.merge_all()\n",
    "\n",
    "# Configure where to save the logs for tensorboard\n",
    "summary_writer = tf.summary.FileWriter(logs_path, graph=tf.get_default_graph())"
   ]
  },
  {
   "cell_type": "markdown",
   "metadata": {},
   "source": [
    "### Load the dataset"
   ]
  },
  {
   "cell_type": "code",
   "execution_count": 9,
   "metadata": {},
   "outputs": [
    {
     "name": "stdout",
     "output_type": "stream",
     "text": [
      "Loading training data\n",
      "LMDB file\n",
      "Spliting training and validation\n",
      "Number training images: 38081\n",
      "Number validation images: 9520\n",
      "Num samples 47602 Iterations per epoch: 743 batch size: 64\n"
     ]
    }
   ],
   "source": [
    "data = HandleData(path=input_train_hdf5, path_val=input_val_hdf5)\n",
    "num_images_epoch = int(data.get_num_images() / batch_size)\n",
    "print('Num samples',data.get_num_images(), 'Iterations per epoch:', num_images_epoch, 'batch size:', batch_size)"
   ]
  },
  {
   "cell_type": "markdown",
   "metadata": {},
   "source": [
    "### Do training"
   ]
  },
  {
   "cell_type": "code",
   "execution_count": 10,
   "metadata": {},
   "outputs": [
    {
     "name": "stdout",
     "output_type": "stream",
     "text": [
      "Epoch: 0, Step: 0, Loss(Val): 2.16449e+08\n",
      "Epoch: 0, Step: 10, Loss(Val): nan\n",
      "Epoch: 0, Step: 20, Loss(Val): nan\n",
      "Epoch: 0, Step: 30, Loss(Val): nan\n",
      "Epoch: 0, Step: 40, Loss(Val): nan\n",
      "Epoch: 0, Step: 50, Loss(Val): nan\n",
      "Epoch: 0, Step: 60, Loss(Val): nan\n",
      "Epoch: 0, Step: 70, Loss(Val): nan\n",
      "Epoch: 0, Step: 80, Loss(Val): nan\n",
      "Epoch: 0, Step: 90, Loss(Val): nan\n",
      "Epoch: 0, Step: 100, Loss(Val): nan\n",
      "Epoch: 0, Step: 110, Loss(Val): nan\n",
      "Epoch: 0, Step: 120, Loss(Val): nan\n",
      "Epoch: 0, Step: 130, Loss(Val): nan\n",
      "Epoch: 0, Step: 140, Loss(Val): nan\n",
      "Epoch: 0, Step: 150, Loss(Val): nan\n",
      "Epoch: 0, Step: 160, Loss(Val): nan\n",
      "Epoch: 0, Step: 170, Loss(Val): nan\n",
      "Epoch: 0, Step: 180, Loss(Val): nan\n",
      "Epoch: 0, Step: 190, Loss(Val): nan\n",
      "Epoch: 0, Step: 200, Loss(Val): nan\n",
      "Epoch: 0, Step: 210, Loss(Val): nan\n",
      "Epoch: 0, Step: 220, Loss(Val): nan\n",
      "Epoch: 0, Step: 230, Loss(Val): nan\n",
      "Epoch: 0, Step: 240, Loss(Val): nan\n",
      "Epoch: 0, Step: 250, Loss(Val): nan\n",
      "Epoch: 0, Step: 260, Loss(Val): nan\n",
      "Epoch: 0, Step: 270, Loss(Val): nan\n",
      "Epoch: 0, Step: 280, Loss(Val): nan\n",
      "Epoch: 0, Step: 290, Loss(Val): nan\n",
      "Epoch: 0, Step: 300, Loss(Val): nan\n",
      "Epoch: 0, Step: 310, Loss(Val): nan\n",
      "Epoch: 0, Step: 320, Loss(Val): nan\n",
      "Epoch: 0, Step: 330, Loss(Val): nan\n",
      "Epoch: 0, Step: 340, Loss(Val): nan\n",
      "Epoch: 0, Step: 350, Loss(Val): nan\n",
      "Epoch: 0, Step: 360, Loss(Val): nan\n",
      "Epoch: 0, Step: 370, Loss(Val): nan\n",
      "Epoch: 0, Step: 380, Loss(Val): nan\n",
      "Epoch: 0, Step: 390, Loss(Val): nan\n",
      "Epoch: 0, Step: 400, Loss(Val): nan\n",
      "Epoch: 0, Step: 410, Loss(Val): nan\n",
      "Epoch: 0, Step: 420, Loss(Val): nan\n",
      "Epoch: 0, Step: 430, Loss(Val): nan\n",
      "Epoch: 0, Step: 440, Loss(Val): nan\n",
      "Epoch: 0, Step: 450, Loss(Val): nan\n",
      "Epoch: 0, Step: 460, Loss(Val): nan\n",
      "Epoch: 0, Step: 470, Loss(Val): nan\n",
      "Epoch: 0, Step: 480, Loss(Val): nan\n",
      "Epoch: 0, Step: 490, Loss(Val): nan\n",
      "Epoch: 0, Step: 500, Loss(Val): nan\n",
      "Epoch: 0, Step: 510, Loss(Val): nan\n",
      "Epoch: 0, Step: 520, Loss(Val): nan\n",
      "Epoch: 0, Step: 530, Loss(Val): nan\n",
      "Epoch: 0, Step: 540, Loss(Val): nan\n",
      "Epoch: 0, Step: 550, Loss(Val): nan\n",
      "Epoch: 0, Step: 560, Loss(Val): nan\n",
      "Epoch: 0, Step: 570, Loss(Val): nan\n",
      "Epoch: 0, Step: 580, Loss(Val): nan\n",
      "Epoch: 0, Step: 590, Loss(Val): nan\n",
      "Epoch: 0, Step: 600, Loss(Val): nan\n",
      "Epoch: 0, Step: 610, Loss(Val): nan\n",
      "Epoch: 0, Step: 620, Loss(Val): nan\n",
      "Epoch: 0, Step: 630, Loss(Val): nan\n",
      "Epoch: 0, Step: 640, Loss(Val): nan\n",
      "Epoch: 0, Step: 650, Loss(Val): nan\n",
      "Epoch: 0, Step: 660, Loss(Val): nan\n",
      "Epoch: 0, Step: 670, Loss(Val): nan\n",
      "Epoch: 0, Step: 680, Loss(Val): nan\n",
      "Epoch: 0, Step: 690, Loss(Val): nan\n",
      "Epoch: 0, Step: 700, Loss(Val): nan\n",
      "Epoch: 0, Step: 710, Loss(Val): nan\n",
      "Epoch: 0, Step: 720, Loss(Val): nan\n",
      "Epoch: 0, Step: 730, Loss(Val): nan\n",
      "Epoch: 0, Step: 740, Loss(Val): nan\n",
      "Model saved in file: ../save/model-0\n",
      "Shuffle data\n"
     ]
    }
   ],
   "source": [
    "# For each epoch\n",
    "for epoch in range(epochs):\n",
    "    for i in range(int(data.get_num_images() / batch_size)):\n",
    "        # Get training batch\n",
    "        xs_train, ys_train = data.LoadTrainBatch(batch_size, should_augment=True)\n",
    "\n",
    "        # Send training batch to tensorflow graph (Dropout enabled)\n",
    "        train_step.run(feed_dict={model_in: xs_train, labels_in: ys_train, model_drop: 0.2, train_mode:True})\n",
    "\n",
    "        # Display some information each x iterations\n",
    "        if i % iter_disp == 0:\n",
    "            # Get validation batch\n",
    "            xs, ys = data.LoadValBatch(batch_size)\n",
    "            # Send validation batch to tensorflow graph (Dropout disabled)\n",
    "            loss_value = loss_val.eval(feed_dict={model_in: xs, labels_in: ys, model_drop: 0.0, train_mode:False})\n",
    "            print(\"Epoch: %d, Step: %d, Loss(Val): %g\" % (epoch, epoch * num_images_epoch + i, loss_value))\n",
    "\n",
    "        # write logs at every iteration\n",
    "        summary = merged_summary_op.eval(feed_dict={model_in: xs_train, labels_in: ys_train, model_drop: 0.0, train_mode:False})\n",
    "        summary_writer.add_summary(summary, epoch * num_images_epoch + i)\n",
    "\n",
    "    # Save checkpoint after each epoch\n",
    "    if not os.path.exists(save_dir):\n",
    "        os.makedirs(save_dir)\n",
    "    checkpoint_path = os.path.join(save_dir, \"model\")\n",
    "    filename = saver.save(sess, checkpoint_path, global_step=epoch)\n",
    "    print(\"Model saved in file: %s\" % filename)\n",
    "\n",
    "    # Shuffle data at each epoch end\n",
    "    print(\"Shuffle data\")\n",
    "    data.shuffleData()"
   ]
  }
 ],
 "metadata": {
  "kernelspec": {
   "display_name": "Python 3",
   "language": "python",
   "name": "python3"
  },
  "language_info": {
   "codemirror_mode": {
    "name": "ipython",
    "version": 3
   },
   "file_extension": ".py",
   "mimetype": "text/x-python",
   "name": "python",
   "nbconvert_exporter": "python",
   "pygments_lexer": "ipython3",
   "version": "3.5.2"
  }
 },
 "nbformat": 4,
 "nbformat_minor": 1
}
