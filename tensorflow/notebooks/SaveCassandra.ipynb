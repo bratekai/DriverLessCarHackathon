{
 "cells": [
  {
   "cell_type": "markdown",
   "metadata": {},
   "source": [
    "## Save data on Cassandra\n",
    "This notebook will save all files from a driving directory into cassandra database\n",
    "\n",
    "Install driver\n",
    "```bash\n",
    "pip install cassandra-driver\n",
    "```\n",
    "\n",
    "References:\n",
    "* https://www.youtube.com/watch?v=SE3A9tUdE8s\n",
    "* http://datastax.github.io/python-driver/getting_started.html\n",
    "* http://datastax.github.io/python-driver/object_mapper.html\n",
    "* http://stupidpythonideas.blogspot.co.uk/2014/07/three-ways-to-read-files.html\n",
    "* https://www.youtube.com/watch?v=A-j0IShmG1U"
   ]
  },
  {
   "cell_type": "code",
   "execution_count": 1,
   "metadata": {
    "collapsed": true
   },
   "outputs": [],
   "source": [
    "from cassandra.cluster import Cluster\n",
    "import cassandra.util\n",
    "import uuid\n",
    "import numpy as np\n",
    "folder_dataset = \"/home/leoara01/work/Hackathon/Data/Wheel_Cams/Track8_Wheel_Cam/\"\n",
    "\n",
    "insert_string = \"\"\"\n",
    "    INSERT INTO tb_drive (id, wheel_angle, acc, image)\n",
    "    VALUES (%s, %s, %s, %s)\n",
    "    \"\"\""
   ]
  },
  {
   "cell_type": "code",
   "execution_count": 2,
   "metadata": {
    "collapsed": true
   },
   "outputs": [],
   "source": [
    "# Considering that the cluster is on localhost\n",
    "cluster = Cluster()\n",
    "# Other option if you know the IPs\n",
    "# cluster = Cluster(['192.168.0.1', '192.168.0.2'])\n",
    "# Get a session to the database\n",
    "session = cluster.connect('mydb')"
   ]
  },
  {
   "cell_type": "markdown",
   "metadata": {},
   "source": [
    "### Doing a query"
   ]
  },
  {
   "cell_type": "code",
   "execution_count": 3,
   "metadata": {
    "collapsed": false
   },
   "outputs": [
    {
     "name": "stdout",
     "output_type": "stream",
     "text": [
      "Collumns: ['id', 'acc', 'image', 'wheel_angle']\n",
      "69689abe-574f-11e7-9708-989096d72294 0.4868069887161255 -0.1188569962978363\n",
      "cf4fe0ca-574b-11e7-9708-989096d72294 0.5739529728889465 -0.08012589812278748\n",
      "c1991ef7-574b-11e7-9708-989096d72294 0.0 -0.2931489944458008\n",
      "7c2bccf6-574e-11e7-9708-989096d72294 1.0 0.0\n",
      "8c8cfc98-574f-11e7-9708-989096d72294 0.3028320074081421 0.0\n"
     ]
    }
   ],
   "source": [
    "rows = session.execute('SELECT * FROM tb_drive limit 5')\n",
    "print('Collumns:',rows.column_names)\n",
    "for row in rows:\n",
    "    print(row.id, row.acc, row.wheel_angle)"
   ]
  },
  {
   "cell_type": "code",
   "execution_count": 4,
   "metadata": {
    "collapsed": false
   },
   "outputs": [
    {
     "name": "stdout",
     "output_type": "stream",
     "text": [
      "5500\n"
     ]
    }
   ],
   "source": [
    "result = session.execute('SELECT count(*) as total FROM tb_drive')\n",
    "print(result[0].total)"
   ]
  },
  {
   "cell_type": "markdown",
   "metadata": {},
   "source": [
    "### Read Data"
   ]
  },
  {
   "cell_type": "code",
   "execution_count": null,
   "metadata": {
    "collapsed": false
   },
   "outputs": [
    {
     "name": "stdout",
     "output_type": "stream",
     "text": [
      "Number of images: 880\n"
     ]
    }
   ],
   "source": [
    "# Lists to hold image filename and label\n",
    "img_paths = []\n",
    "steering_list = []\n",
    "acc_list = []\n",
    "\n",
    "with open(folder_dataset + \"data.txt\") as f:\n",
    "    for line in f:\n",
    "        # Image path\n",
    "        img_paths.append(folder_dataset + line.split()[0])                \n",
    "        \n",
    "        # Steering wheel label\n",
    "        steering_list.append(np.float32(line.split()[1]))\n",
    "        # Acceleration label\n",
    "        acc_list.append(np.float32(line.split()[2]))\n",
    "\n",
    "num_images = len(img_paths)\n",
    "print(\"Number of images: %d\" % num_images)\n",
    "\n",
    "# Use zip to create a list with images/labels\n",
    "dataset = list(zip(img_paths, steering_list, acc_list))"
   ]
  },
  {
   "cell_type": "markdown",
   "metadata": {},
   "source": [
    "### Insert Data into Cassandra database"
   ]
  },
  {
   "cell_type": "code",
   "execution_count": null,
   "metadata": {
    "collapsed": false
   },
   "outputs": [],
   "source": [
    "for data in dataset:\n",
    "    # Split from dataset the image path, steering angle, and acceleration\n",
    "    img_path, steering_angle, acc = data \n",
    "        \n",
    "    # Load image (png compressed)\n",
    "    with open(img_path, 'rb') as f:\n",
    "        content_file = f.read()\n",
    "\n",
    "    # Insert into database    \n",
    "    session.execute(insert_string,(uuid.uuid1(), steering_angle, acc, content_file))    "
   ]
  }
 ],
 "metadata": {
  "kernelspec": {
   "display_name": "Python 3",
   "language": "python",
   "name": "python3"
  },
  "language_info": {
   "codemirror_mode": {
    "name": "ipython",
    "version": 3
   },
   "file_extension": ".py",
   "mimetype": "text/x-python",
   "name": "python",
   "nbconvert_exporter": "python",
   "pygments_lexer": "ipython3",
   "version": "3.6.0"
  }
 },
 "nbformat": 4,
 "nbformat_minor": 2
}
