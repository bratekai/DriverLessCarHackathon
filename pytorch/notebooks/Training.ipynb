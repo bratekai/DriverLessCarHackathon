{
 "cells": [
  {
   "cell_type": "markdown",
   "metadata": {},
   "source": [
    "## Train on Pytorch"
   ]
  },
  {
   "cell_type": "code",
   "execution_count": 1,
   "metadata": {},
   "outputs": [],
   "source": [
    "import os\n",
    "import torch\n",
    "from torch.optim import lr_scheduler\n",
    "import torch.nn as nn\n",
    "import torchvision.transforms as transforms\n",
    "import sys\n",
    "sys.path.append('../')\n",
    "from drive_dataset import DriveData_LMDB\n",
    "from drive_dataset import AugmentDrivingTransform\n",
    "from drive_dataset import RandomBrightness\n",
    "from drive_dataset import ConvertToGray\n",
    "from drive_dataset import ConvertToSepia\n",
    "from drive_dataset import AddNoise\n",
    "from drive_dataset import DrivingDataToTensor\n",
    "from torch.utils.data import DataLoader\n",
    "from model import CNNDriver\n",
    "# Library that gives support for tensorboard and pytorch\n",
    "from tensorboardX import SummaryWriter"
   ]
  },
  {
   "cell_type": "markdown",
   "metadata": {},
   "source": [
    "### Choose GPU\n",
    "To check how many gpu's available run on terminal\n",
    "```bash\n",
    "nvidia-smi\n",
    "```"
   ]
  },
  {
   "cell_type": "code",
   "execution_count": 2,
   "metadata": {},
   "outputs": [],
   "source": [
    "import os\n",
    "os.environ[\"CUDA_VISIBLE_DEVICES\"] = str(0)"
   ]
  },
  {
   "cell_type": "markdown",
   "metadata": {},
   "source": [
    "### Choose Training parameters"
   ]
  },
  {
   "cell_type": "code",
   "execution_count": 3,
   "metadata": {},
   "outputs": [],
   "source": [
    "training_dir = '/home/ubuntu/datasets/Dataset_LMDB_Balanced/'\n",
    "num_epochs = 100\n",
    "batch_size=400\n",
    "lr=0.0001\n",
    "l2_norm=0.001"
   ]
  },
  {
   "cell_type": "code",
   "execution_count": 4,
   "metadata": {},
   "outputs": [],
   "source": [
    "class Train:\n",
    "    __device = []\n",
    "    __writer = []\n",
    "    __model = []\n",
    "    __transformations = []\n",
    "    __dataset_train = []\n",
    "    __train_loader = []\n",
    "    __loss_func = []\n",
    "    __optimizer = []\n",
    "    __exp_lr_scheduler = []\n",
    "\n",
    "    def __init__(self):\n",
    "        # Device configuration\n",
    "        self.__device = torch.device('cuda:0' if torch.cuda.is_available() else 'cpu')\n",
    "        self.__writer = SummaryWriter('logs')\n",
    "        self.__model = CNNDriver()\n",
    "        # Set model to train mode\n",
    "        self.__model.train()\n",
    "        print(self.__model)\n",
    "        self.__writer.add_graph(self.__model, torch.rand(10, 3, 66, 200))\n",
    "        # Put model on GPU\n",
    "        self.__model = self.__model.to(self.__device)\n",
    "\n",
    "    def train(self, num_epochs=100, batch_size=400, lr=0.0001, l2_norm=0.001, save_dir='../save', input='./DataLMDB'):\n",
    "        # Create log/save directory if it does not exist\n",
    "        if not os.path.exists('../logs'):\n",
    "            os.makedirs('../logs')\n",
    "        if not os.path.exists(save_dir):\n",
    "            os.makedirs(save_dir)\n",
    "        \n",
    "        self.__transformations = transforms.Compose([AugmentDrivingTransform(), RandomBrightness(), \n",
    "                                                     ConvertToGray(), AddNoise(), DrivingDataToTensor()])\n",
    "        self.__dataset_train = DriveData_LMDB(input, self.__transformations)\n",
    "        self.__train_loader = DataLoader(self.__dataset_train, batch_size=batch_size, shuffle=True, num_workers=4)\n",
    "\n",
    "        # Loss and Optimizer\n",
    "        self.__loss_func = nn.MSELoss()\n",
    "        # self.__loss_func = nn.SmoothL1Loss()\n",
    "        self.__optimizer = torch.optim.Adam(self.__model.parameters(), lr=lr, weight_decay=l2_norm)\n",
    "\n",
    "        # Decay LR by a factor of 0.1 every 10 epochs\n",
    "        self.__exp_lr_scheduler = lr_scheduler.StepLR(self.__optimizer, step_size=15, gamma=0.1)\n",
    "\n",
    "        print('Train size:', len(self.__dataset_train), 'Batch size:', batch_size)\n",
    "        print('Batches per epoch:', len(self.__dataset_train) // batch_size)\n",
    "\n",
    "        # Train the Model\n",
    "        iteration_count = 0\n",
    "        for epoch in range(num_epochs):\n",
    "            for batch_idx, samples in enumerate(self.__train_loader):\n",
    "\n",
    "                # Send inputs/labels to GPU\n",
    "                images = samples['image'].to(self.__device)\n",
    "                labels = samples['label'].to(self.__device)\n",
    "\n",
    "                self.__optimizer.zero_grad()\n",
    "\n",
    "                # Forward + Backward + Optimize\n",
    "                outputs = self.__model(images)\n",
    "                loss = self.__loss_func(outputs, labels.unsqueeze(dim=1))\n",
    "\n",
    "                loss.backward()\n",
    "                self.__optimizer.step()\n",
    "                self.__exp_lr_scheduler.step(epoch)\n",
    "\n",
    "                # Send loss to tensorboard\n",
    "                self.__writer.add_scalar('loss/', loss.item(), iteration_count)\n",
    "                self.__writer.add_histogram('steering_out', outputs.clone().detach().cpu().numpy(), \n",
    "                                            iteration_count, bins='doane')\n",
    "                self.__writer.add_histogram('steering_in', \n",
    "                                            labels.unsqueeze(dim=1).clone().detach().cpu().numpy(), \n",
    "                                            iteration_count, bins='doane')\n",
    "\n",
    "                # Get current learning rate (To display on Tensorboard)\n",
    "                for param_group in self.__optimizer.param_groups:\n",
    "                    curr_learning_rate = param_group['lr']\n",
    "                    self.__writer.add_scalar('learning_rate/', curr_learning_rate, iteration_count)\n",
    "\n",
    "                # Display on each epoch\n",
    "                if batch_idx == 0:\n",
    "                    # Send image to tensorboard\n",
    "                    self.__writer.add_image('Image', images, epoch)\n",
    "                    self.__writer.add_text('Steering', 'Steering:' + str(outputs[batch_idx].item()), epoch)\n",
    "                    # Print Epoch and loss\n",
    "                    print('Epoch [%d/%d] Loss: %.4f' % (epoch + 1, num_epochs, loss.item()))\n",
    "                    # Save the Trained Model parameters\n",
    "                    torch.save(self.__model.state_dict(), save_dir+'/cnn_' + str(epoch) + '.pkl')\n",
    "\n",
    "                iteration_count += 1\n"
   ]
  },
  {
   "cell_type": "markdown",
   "metadata": {},
   "source": [
    "### Run training"
   ]
  },
  {
   "cell_type": "code",
   "execution_count": null,
   "metadata": {},
   "outputs": [
    {
     "name": "stdout",
     "output_type": "stream",
     "text": [
      "CNNDriver(\n",
      "  (conv_layers): Sequential(\n",
      "    (0): Conv2d(3, 24, kernel_size=(5, 5), stride=(2, 2))\n",
      "    (1): BatchNorm2d(24, eps=1e-05, momentum=0.1, affine=True, track_running_stats=True)\n",
      "    (2): ReLU()\n",
      "    (3): Conv2d(24, 36, kernel_size=(5, 5), stride=(2, 2))\n",
      "    (4): BatchNorm2d(36, eps=1e-05, momentum=0.1, affine=True, track_running_stats=True)\n",
      "    (5): ReLU()\n",
      "    (6): Conv2d(36, 48, kernel_size=(5, 5), stride=(2, 2))\n",
      "    (7): BatchNorm2d(48, eps=1e-05, momentum=0.1, affine=True, track_running_stats=True)\n",
      "    (8): ReLU()\n",
      "    (9): Conv2d(48, 64, kernel_size=(3, 3), stride=(1, 1))\n",
      "    (10): BatchNorm2d(64, eps=1e-05, momentum=0.1, affine=True, track_running_stats=True)\n",
      "    (11): ReLU()\n",
      "    (12): Conv2d(64, 64, kernel_size=(3, 3), stride=(1, 1))\n",
      "    (13): BatchNorm2d(64, eps=1e-05, momentum=0.1, affine=True, track_running_stats=True)\n",
      "    (14): ReLU()\n",
      "  )\n",
      "  (fc_layers): Sequential(\n",
      "    (0): Linear(in_features=1152, out_features=1164, bias=True)\n",
      "    (1): ReLU()\n",
      "    (2): Dropout(p=0.5)\n",
      "    (3): Linear(in_features=1164, out_features=100, bias=True)\n",
      "    (4): ReLU()\n",
      "    (5): Dropout(p=0.5)\n",
      "    (6): Linear(in_features=100, out_features=50, bias=True)\n",
      "    (7): ReLU()\n",
      "    (8): Dropout(p=0.5)\n",
      "    (9): Linear(in_features=50, out_features=10, bias=True)\n",
      "    (10): ReLU()\n",
      "    (11): Dropout(p=0.5)\n",
      "    (12): Linear(in_features=10, out_features=1, bias=True)\n",
      "    (13): Tanh()\n",
      "  )\n",
      ")\n",
      "Load LMDB: /home/ubuntu/datasets/Dataset_LMDB_Balanced/\n",
      "Train size: 47602 Batch size: 400\n",
      "Batches per epoch: 119\n",
      "Epoch [1/100] Loss: 0.4815\n",
      "Epoch [2/100] Loss: 0.1520\n",
      "Epoch [3/100] Loss: 0.1434\n",
      "Epoch [4/100] Loss: 0.1435\n"
     ]
    }
   ],
   "source": [
    "objTrain = Train()\n",
    "objTrain.train(num_epochs=num_epochs, batch_size=batch_size, lr=lr, l2_norm=l2_norm, input=training_dir)"
   ]
  }
 ],
 "metadata": {
  "kernelspec": {
   "display_name": "Python 3",
   "language": "python",
   "name": "python3"
  },
  "language_info": {
   "codemirror_mode": {
    "name": "ipython",
    "version": 3
   },
   "file_extension": ".py",
   "mimetype": "text/x-python",
   "name": "python",
   "nbconvert_exporter": "python",
   "pygments_lexer": "ipython3",
   "version": "3.5.2"
  }
 },
 "nbformat": 4,
 "nbformat_minor": 2
}
